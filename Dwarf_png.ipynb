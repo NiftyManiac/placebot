{
 "cells": [
  {
   "cell_type": "code",
   "execution_count": 48,
   "metadata": {
    "collapsed": false
   },
   "outputs": [
    {
     "name": "stdout",
     "output_type": "stream",
     "text": [
      "40 16\n"
     ]
    }
   ],
   "source": [
    "from PIL import Image\n",
    "im = Image.open(\"bannerx10.png\")\n",
    "pixel_width = 10\n",
    "pixel_height = 10\n",
    "pix = im.load()\n",
    "\n",
    "width, height = im.size\n",
    "width = width//pixel_width\n",
    "height = height//pixel_height\n",
    "print(width, height)\n",
    "\n"
   ]
  },
  {
   "cell_type": "code",
   "execution_count": 49,
   "metadata": {
    "collapsed": false
   },
   "outputs": [],
   "source": [
    "dif_colors = set()\n",
    "for x in range(width):\n",
    "    for y in range(height):\n",
    "        dif_colors.add(pix[x*pixel_width,y*pixel_width])"
   ]
  },
  {
   "cell_type": "code",
   "execution_count": 50,
   "metadata": {
    "collapsed": false
   },
   "outputs": [
    {
     "data": {
      "text/plain": [
       "{(0, 0, 0),\n",
       " (1, 255, 255),\n",
       " (90, 218, 219),\n",
       " (128, 128, 128),\n",
       " (192, 192, 192),\n",
       " (255, 255, 255)}"
      ]
     },
     "execution_count": 50,
     "metadata": {},
     "output_type": "execute_result"
    }
   ],
   "source": [
    "dif_colors"
   ]
  },
  {
   "cell_type": "code",
   "execution_count": 51,
   "metadata": {
    "collapsed": false
   },
   "outputs": [],
   "source": [
    "# map RGB to /r/place color indices\n",
    "colormap = {\n",
    " (0, 0, 0): 3, #black\n",
    " (1, 255, 255): 11, #cyan\n",
    " (90, 218, 219): 12, #teal\n",
    " (128, 128, 128): 2, #dark gray\n",
    " (192, 192, 192): 1, #light gray\n",
    " (255, 255, 255): 0 #white\n",
    "}"
   ]
  },
  {
   "cell_type": "code",
   "execution_count": 52,
   "metadata": {
    "collapsed": true
   },
   "outputs": [],
   "source": [
    "colors = []\n",
    "for y in range(height):\n",
    "    for x in range(width):\n",
    "        colors.append(str(colormap[pix[x*pixel_width,y*pixel_width]]))"
   ]
  },
  {
   "cell_type": "code",
   "execution_count": 53,
   "metadata": {
    "collapsed": false
   },
   "outputs": [
    {
     "name": "stdout",
     "output_type": "stream",
     "text": [
      "\n",
      "var dwarf = {\n",
      "  x: 0,\n",
      "  y: 0,\n",
      "  width: 40,\n",
      "  height: 16,\n",
      "  colors: [11,3,11,11,3,3,3,3,3,3,3,3,3,3,3,3,0,0,0,0,0,0,0,0,0,3,3,3,3,3,3,3,3,3,3,3,11,3,11,3,11,11,11,3,3,3,3,3,3,3,3,3,3,3,3,3,0,0,0,0,0,0,0,0,0,0,3,3,3,3,3,3,3,3,3,3,3,11,11,11,11,11,3,3,3,3,3,3,3,3,3,3,3,3,0,0,0,0,0,0,0,0,0,0,0,0,0,3,3,3,3,3,3,3,3,3,3,3,3,11,11,3,3,3,3,3,3,3,3,3,3,3,3,3,0,0,0,1,1,1,1,1,1,1,0,0,0,3,3,3,3,3,3,3,3,3,3,3,11,11,11,11,11,3,3,3,3,3,3,3,3,3,3,3,0,0,1,1,1,1,1,1,1,1,1,0,0,3,3,3,3,3,3,3,3,3,3,3,3,11,11,3,11,3,3,3,3,3,3,3,3,3,3,3,0,0,1,1,2,1,1,1,2,1,1,0,0,3,3,3,3,3,3,3,3,3,3,3,3,3,11,11,11,3,3,3,3,3,3,3,3,1,1,1,0,0,1,1,1,1,1,1,1,1,1,0,0,1,1,1,1,1,1,3,3,3,3,3,3,11,11,3,11,3,3,3,3,3,3,1,1,1,1,1,0,0,0,0,0,0,0,0,0,0,0,0,0,1,1,1,1,1,1,1,3,3,3,3,3,11,3,3,11,3,3,3,1,1,1,1,1,1,1,1,1,0,0,0,1,1,1,1,1,0,0,0,0,1,1,1,1,1,1,1,1,1,3,3,3,11,11,3,11,1,1,1,1,1,1,1,1,1,1,1,1,0,0,0,0,0,0,0,0,0,0,0,1,1,1,1,1,1,1,1,1,1,1,1,3,11,11,1,1,1,1,1,1,1,1,1,1,1,1,1,1,1,0,0,0,0,0,0,0,0,0,0,1,1,1,1,1,1,1,1,1,1,1,1,1,11,11,3,11,1,1,1,1,1,1,1,3,3,1,1,1,1,0,0,0,0,0,0,0,0,0,0,1,3,1,1,11,11,1,1,11,11,1,1,11,11,11,11,11,1,11,11,1,1,11,1,3,3,3,1,1,1,0,0,0,0,0,0,0,0,0,0,11,11,1,1,11,11,11,11,11,3,11,11,11,12,12,3,3,11,11,11,1,1,11,11,11,11,11,11,11,11,11,0,0,0,0,0,0,0,0,11,11,11,11,11,3,3,3,12,3,3,12,12,12,3,12,12,12,3,3,3,12,11,11,11,3,11,11,11,11,11,11,0,0,0,0,0,0,0,0,3,12,12,12,12,12,12,12,3,3,11,3,3,12,12,3,3,3,12,12,11,12,12,12,12,12,3,3,3,3,3,3,12,0,0,0,0,0,3,3,3,12,12,12,3,3,3,3,3,3,11,11,11,3,3]\n",
      "};\n"
     ]
    }
   ],
   "source": [
    "\n",
    "print(\"\"\"\n",
    "var dwarf = {{\n",
    "  x: 0,\n",
    "  y: 0,\n",
    "  width: {width},\n",
    "  height: {height},\n",
    "  colors: [{colors}]\n",
    "}};\"\"\".format(width=width, height=height, colors=\",\".join(colors)))"
   ]
  }
 ],
 "metadata": {
  "kernelspec": {
   "display_name": "Python 3",
   "language": "python",
   "name": "python3"
  },
  "language_info": {
   "codemirror_mode": {
    "name": "ipython",
    "version": 3
   },
   "file_extension": ".py",
   "mimetype": "text/x-python",
   "name": "python",
   "nbconvert_exporter": "python",
   "pygments_lexer": "ipython3",
   "version": "3.5.2"
  }
 },
 "nbformat": 4,
 "nbformat_minor": 0
}
