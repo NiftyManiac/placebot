{
 "cells": [
  {
   "cell_type": "code",
   "execution_count": 56,
   "metadata": {
    "collapsed": false
   },
   "outputs": [
    {
     "name": "stdout",
     "output_type": "stream",
     "text": [
      "44 16\n"
     ]
    }
   ],
   "source": [
    "from PIL import Image\n",
    "im = Image.open(\"bannerpickC.png\")\n",
    "pixel_width = 1\n",
    "pixel_height = 1\n",
    "pix = im.load()\n",
    "\n",
    "\n",
    "width, height = im.size\n",
    "width = width//pixel_width\n",
    "height = height//pixel_height\n",
    "print(width, height)\n",
    "\n"
   ]
  },
  {
   "cell_type": "code",
   "execution_count": 57,
   "metadata": {
    "collapsed": false
   },
   "outputs": [],
   "source": [
    "dif_colors = set()\n",
    "for x in range(width):\n",
    "    for y in range(height):\n",
    "        dif_colors.add(pix[x*pixel_width,y*pixel_width])"
   ]
  },
  {
   "cell_type": "code",
   "execution_count": 58,
   "metadata": {
    "collapsed": false
   },
   "outputs": [
    {
     "data": {
      "text/plain": [
       "{(0, 0, 0, 0),\n",
       " (0, 0, 0, 255),\n",
       " (0, 131, 199, 255),\n",
       " (0, 211, 221, 255),\n",
       " (128, 128, 128, 255),\n",
       " (130, 0, 128, 255),\n",
       " (160, 106, 66, 255),\n",
       " (192, 192, 192, 255),\n",
       " (207, 110, 228, 255),\n",
       " (229, 149, 0, 255),\n",
       " (255, 255, 255, 255)}"
      ]
     },
     "execution_count": 58,
     "metadata": {},
     "output_type": "execute_result"
    }
   ],
   "source": [
    "dif_colors"
   ]
  },
  {
   "cell_type": "code",
   "execution_count": 64,
   "metadata": {
    "collapsed": false
   },
   "outputs": [],
   "source": [
    "# colors_i = [  [255, 255, 255],\n",
    "#   [228, 228, 228],\n",
    "#   [136, 136, 136],\n",
    "#   [0, 0, 0],\n",
    "#   [255, 167, 209], #?\n",
    "#   [229, 0, 0],\n",
    "#   [229, 149, 0], #g\n",
    "#   [160, 106, 66],\n",
    "#   [229, 217, 0],\n",
    "#   [148, 224, 68],\n",
    "#   [2, 190, 1],\n",
    "#   [0, 211, 221],\n",
    "#   [0, 131, 199],\n",
    "#   [0, 0, 234],\n",
    "#   [207, 110, 228],\n",
    "#   [130, 0, 128]]\n",
    "\n",
    "# map RGB to /r/place color indices\n",
    "colormap = {\n",
    " (0, 0, 0): 3, #black\n",
    " (0, 211, 221): 11, #cyan\n",
    " (0, 131, 199): 12, #teal\n",
    " (128, 128, 128): 2, #dark gray\n",
    " (192, 192, 192): 1, #light gray\n",
    " (255, 255, 255): 0, #white\n",
    " (207, 110, 228): 14, #light pink\n",
    " (130, 0, 128): 15, #dark pink  \n",
    " (229, 149, 0): 6, #orange\n",
    " (160, 106, 66): 7, #brown\n",
    " \n",
    " \n",
    "    \n",
    "}"
   ]
  },
  {
   "cell_type": "code",
   "execution_count": 65,
   "metadata": {
    "collapsed": false
   },
   "outputs": [],
   "source": [
    "colors = []\n",
    "for y in range(height):\n",
    "    for x in range(width):\n",
    "        p = pix[x*pixel_width,y*pixel_width]\n",
    "        if p[3]==0:\n",
    "            colors.append(\"-1\")\n",
    "        else:\n",
    "            colors.append(str(colormap[tuple(p[:3])]))"
   ]
  },
  {
   "cell_type": "code",
   "execution_count": 66,
   "metadata": {
    "collapsed": false
   },
   "outputs": [
    {
     "name": "stdout",
     "output_type": "stream",
     "text": [
      "\n",
      "var dwarf = {\n",
      "  x: 0,\n",
      "  y: 0,\n",
      "  width: 44,\n",
      "  height: 16,\n",
      "  colors: [-1,3,14,3,14,14,14,3,3,3,3,3,3,3,3,3,3,3,3,3,0,0,0,0,0,0,0,0,0,3,3,3,3,3,3,3,3,3,3,3,14,3,14,3,-1,3,14,14,14,3,3,12,12,12,12,12,3,3,3,3,3,3,3,3,0,0,0,0,0,0,0,0,0,0,3,3,3,3,3,3,3,3,3,3,3,14,14,14,-1,14,14,3,6,7,12,11,11,11,11,11,12,3,3,3,3,3,0,0,0,0,0,0,0,0,0,0,0,0,0,3,3,3,3,3,3,3,3,3,3,3,3,14,-1,14,3,3,7,6,11,11,12,12,12,12,3,3,3,3,3,3,0,0,0,1,1,1,1,1,1,1,0,0,0,3,3,3,3,3,3,3,3,3,3,3,14,14,-1,14,3,12,12,11,6,7,3,3,3,3,3,3,3,3,3,3,0,0,1,1,1,1,1,1,1,1,1,0,0,3,3,3,3,3,3,3,3,3,3,3,3,14,-1,14,3,12,11,11,7,6,7,3,3,3,3,3,3,3,3,3,0,0,1,1,2,1,1,1,2,1,1,0,0,3,3,3,3,3,3,3,3,3,3,3,3,3,-1,14,14,12,11,12,3,7,6,7,3,3,3,3,3,1,1,1,0,0,1,1,1,1,1,1,1,1,1,0,0,1,1,1,1,1,1,3,3,3,3,3,3,14,-1,14,14,12,11,12,3,3,7,6,7,3,3,1,1,1,1,1,0,0,0,0,0,0,0,0,0,0,0,0,0,1,1,1,1,1,1,1,3,3,3,3,3,14,-1,14,14,12,11,12,3,3,3,1,1,2,1,1,1,1,1,1,1,0,0,0,1,1,1,1,1,0,0,0,0,1,1,1,1,1,1,1,1,1,3,3,3,14,-1,14,3,12,11,12,3,3,3,1,1,1,2,1,1,1,1,1,1,0,0,0,0,0,0,0,0,0,0,0,1,1,1,1,1,1,1,1,1,1,1,1,3,14,-1,14,14,3,12,3,3,3,3,1,1,1,1,7,1,1,1,1,1,1,0,0,0,0,0,0,0,0,0,0,1,1,1,1,1,1,1,1,1,1,1,1,1,14,-1,14,14,3,14,3,14,14,3,3,1,1,1,6,7,3,1,1,1,1,0,0,0,0,0,0,0,0,0,0,1,3,1,1,14,14,1,1,14,14,1,1,14,14,-1,3,14,14,14,14,14,14,14,14,3,14,14,7,6,3,3,1,1,1,0,0,0,0,0,0,0,0,0,0,14,14,1,1,14,14,14,14,14,3,14,14,14,15,-1,14,14,14,15,3,14,14,14,14,14,14,14,14,14,14,14,14,14,14,14,0,0,0,0,0,0,0,0,14,14,14,14,14,3,3,3,15,3,3,15,15,15,3,-1,15,14,14,15,15,15,14,3,14,15,14,14,14,3,14,14,14,14,14,14,0,0,0,0,0,0,0,0,3,15,15,15,15,15,15,15,3,3,14,3,3,15,15,-1,14,15,15,3,3,3,15,15,14,15,15,15,15,15,3,3,3,3,3,3,14,0,0,0,0,0,3,3,3,15,15,15,3,3,3,3,3,3,14,14,14,3,3]\n",
      "};\n"
     ]
    }
   ],
   "source": [
    "\n",
    "print(\"\"\"\n",
    "var dwarf = {{\n",
    "  x: 0,\n",
    "  y: 0,\n",
    "  width: {width},\n",
    "  height: {height},\n",
    "  colors: [{colors}]\n",
    "}};\"\"\".format(width=width, height=height, colors=\",\".join(colors)))"
   ]
  },
  {
   "cell_type": "code",
   "execution_count": null,
   "metadata": {
    "collapsed": true
   },
   "outputs": [],
   "source": []
  }
 ],
 "metadata": {
  "kernelspec": {
   "display_name": "Python 3",
   "language": "python",
   "name": "python3"
  },
  "language_info": {
   "codemirror_mode": {
    "name": "ipython",
    "version": 3
   },
   "file_extension": ".py",
   "mimetype": "text/x-python",
   "name": "python",
   "nbconvert_exporter": "python",
   "pygments_lexer": "ipython3",
   "version": "3.5.2"
  }
 },
 "nbformat": 4,
 "nbformat_minor": 0
}
